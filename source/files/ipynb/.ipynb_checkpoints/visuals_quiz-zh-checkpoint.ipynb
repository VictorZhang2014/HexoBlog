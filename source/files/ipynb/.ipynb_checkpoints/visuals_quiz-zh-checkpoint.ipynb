{
 "cells": [
  {
   "cell_type": "markdown",
   "metadata": {},
   "source": [
    "# 可视化工具数据探索测试题\n",
    "在下面的空白处进行 `powerplant_data_edited.csv` 探索，回答以下测试题。"
   ]
  },
  {
   "cell_type": "code",
   "execution_count": 2,
   "metadata": {},
   "outputs": [
    {
     "name": "stdout",
     "output_type": "stream",
     "text": [
      "<class 'pandas.core.frame.DataFrame'>\n",
      "RangeIndex: 228 entries, 0 to 227\n",
      "Data columns (total 5 columns):\n",
      "AT    228 non-null float64\n",
      "V     228 non-null float64\n",
      "AP    228 non-null float64\n",
      "RH    228 non-null float64\n",
      "PE    228 non-null float64\n",
      "dtypes: float64(5)\n",
      "memory usage: 9.0 KB\n",
      "None\n"
     ]
    },
    {
     "data": {
      "text/plain": [
       "array([[<matplotlib.axes._subplots.AxesSubplot object at 0x113a1a890>,\n",
       "        <matplotlib.axes._subplots.AxesSubplot object at 0x113ab0f90>],\n",
       "       [<matplotlib.axes._subplots.AxesSubplot object at 0x118aa1950>,\n",
       "        <matplotlib.axes._subplots.AxesSubplot object at 0x118af4310>],\n",
       "       [<matplotlib.axes._subplots.AxesSubplot object at 0x118b36c90>,\n",
       "        <matplotlib.axes._subplots.AxesSubplot object at 0x118b6fed0>]], dtype=object)"
      ]
     },
     "execution_count": 2,
     "metadata": {},
     "output_type": "execute_result"
    },
    {
     "data": {
      "image/png": "[encoded data removed]",
      "text/plain": [
       "<matplotlib.figure.Figure at 0x113a1a4d0>"
      ]
     },
     "metadata": {},
     "output_type": "display_data"
    }
   ],
   "source": [
    "import pandas as pd\n",
    "\n",
    "# 这句话的作用是在jupyter页面生成图像\n",
    "% matplotlib inline\n",
    "\n",
    "\n",
    "# 导入并加载数据\n",
    "df = pd.read_csv('powerplant_data_edited.csv')\n",
    "print(df.info())\n",
    "\n",
    "# 直方图\n",
    "df.hist(figsize=(8, 8))"
   ]
  },
  {
   "cell_type": "code",
   "execution_count": null,
   "metadata": {
    "collapsed": true
   },
   "outputs": [],
   "source": [
    "\n",
    "# 指定DataFrame的某一列生成直方图\n",
    "df[\"PE\"].hist()\n",
    "\n",
    "# 或者这样用，也行\n",
    "#df[\"AT\"].plot(kind='hist')\n",
    "\n",
    "# 柱状图\n",
    "#df[\"AT\"].value_counts()"
   ]
  },
  {
   "cell_type": "code",
   "execution_count": null,
   "metadata": {
    "collapsed": true
   },
   "outputs": [],
   "source": [
    "# 绘制温度与电力输出之间的关系图\n"
   ]
  },
  {
   "cell_type": "code",
   "execution_count": null,
   "metadata": {
    "collapsed": true
   },
   "outputs": [],
   "source": [
    "# 绘制湿度分布图\n"
   ]
  },
  {
   "cell_type": "code",
   "execution_count": null,
   "metadata": {
    "collapsed": true
   },
   "outputs": [],
   "source": [
    "# 绘制每个变量的箱线图\n",
    "df.plot()\n"
   ]
  }
 ],
 "metadata": {
  "kernelspec": {
   "display_name": "Python 2",
   "language": "python",
   "name": "python2"
  },
  "language_info": {
   "codemirror_mode": {
    "name": "ipython",
    "version": 2
   },
   "file_extension": ".py",
   "mimetype": "text/x-python",
   "name": "python",
   "nbconvert_exporter": "python",
   "pygments_lexer": "ipython2",
   "version": "2.7.14"
  }
 },
 "nbformat": 4,
 "nbformat_minor": 2
}
