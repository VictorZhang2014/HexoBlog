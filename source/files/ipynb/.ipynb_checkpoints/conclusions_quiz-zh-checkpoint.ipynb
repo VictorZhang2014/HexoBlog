{
 "cells": [
  {
   "cell_type": "markdown",
   "metadata": {},
   "source": [
    "# 结论推导测试题\n",
    "在下面的空白处探索 `store_data.csv`，回答以下测试题。"
   ]
  },
  {
   "cell_type": "code",
   "execution_count": 3,
   "metadata": {},
   "outputs": [
    {
     "name": "stdout",
     "output_type": "stream",
     "text": [
      "<class 'pandas.core.frame.DataFrame'>\n",
      "RangeIndex: 200 entries, 0 to 199\n",
      "Data columns (total 6 columns):\n",
      "week      200 non-null object\n",
      "storeA    200 non-null int64\n",
      "storeB    200 non-null int64\n",
      "storeC    200 non-null int64\n",
      "storeD    200 non-null int64\n",
      "storeE    200 non-null int64\n",
      "dtypes: int64(5), object(1)\n",
      "memory usage: 9.4+ KB\n",
      "None\n"
     ]
    }
   ],
   "source": [
    "# 导入并加载数据\n",
    "import pandas as pd\n",
    "\n",
    "df = pd.read_csv('store_data.csv')\n",
    "print(df.info())\n"
   ]
  },
  {
   "cell_type": "code",
   "execution_count": 4,
   "metadata": {},
   "outputs": [
    {
     "data": {
      "text/html": [
       "<div>\n",
       "<style>\n",
       "    .dataframe thead tr:only-child th {\n",
       "        text-align: right;\n",
       "    }\n",
       "\n",
       "    .dataframe thead th {\n",
       "        text-align: left;\n",
       "    }\n",
       "\n",
       "    .dataframe tbody tr th {\n",
       "        vertical-align: top;\n",
       "    }\n",
       "</style>\n",
       "<table border=\"1\" class=\"dataframe\">\n",
       "  <thead>\n",
       "    <tr style=\"text-align: right;\">\n",
       "      <th></th>\n",
       "      <th>week</th>\n",
       "      <th>storeA</th>\n",
       "      <th>storeB</th>\n",
       "      <th>storeC</th>\n",
       "      <th>storeD</th>\n",
       "      <th>storeE</th>\n",
       "    </tr>\n",
       "  </thead>\n",
       "  <tbody>\n",
       "    <tr>\n",
       "      <th>0</th>\n",
       "      <td>2014-05-04</td>\n",
       "      <td>2643</td>\n",
       "      <td>8257</td>\n",
       "      <td>3893</td>\n",
       "      <td>6231</td>\n",
       "      <td>1294</td>\n",
       "    </tr>\n",
       "    <tr>\n",
       "      <th>1</th>\n",
       "      <td>2014-05-11</td>\n",
       "      <td>6444</td>\n",
       "      <td>5736</td>\n",
       "      <td>5634</td>\n",
       "      <td>7092</td>\n",
       "      <td>2907</td>\n",
       "    </tr>\n",
       "    <tr>\n",
       "      <th>2</th>\n",
       "      <td>2014-05-18</td>\n",
       "      <td>9646</td>\n",
       "      <td>2552</td>\n",
       "      <td>4253</td>\n",
       "      <td>5447</td>\n",
       "      <td>4736</td>\n",
       "    </tr>\n",
       "    <tr>\n",
       "      <th>3</th>\n",
       "      <td>2014-05-25</td>\n",
       "      <td>5960</td>\n",
       "      <td>10740</td>\n",
       "      <td>8264</td>\n",
       "      <td>6063</td>\n",
       "      <td>949</td>\n",
       "    </tr>\n",
       "    <tr>\n",
       "      <th>4</th>\n",
       "      <td>2014-06-01</td>\n",
       "      <td>7412</td>\n",
       "      <td>7374</td>\n",
       "      <td>3208</td>\n",
       "      <td>3985</td>\n",
       "      <td>3023</td>\n",
       "    </tr>\n",
       "  </tbody>\n",
       "</table>\n",
       "</div>"
      ],
      "text/plain": [
       "         week  storeA  storeB  storeC  storeD  storeE\n",
       "0  2014-05-04    2643    8257    3893    6231    1294\n",
       "1  2014-05-11    6444    5736    5634    7092    2907\n",
       "2  2014-05-18    9646    2552    4253    5447    4736\n",
       "3  2014-05-25    5960   10740    8264    6063     949\n",
       "4  2014-06-01    7412    7374    3208    3985    3023"
      ]
     },
     "execution_count": 4,
     "metadata": {},
     "output_type": "execute_result"
    }
   ],
   "source": [
    "# 探索数据\n",
    "df.head()\n"
   ]
  },
  {
   "cell_type": "code",
   "execution_count": 21,
   "metadata": {},
   "outputs": [
    {
     "name": "stdout",
     "output_type": "stream",
     "text": [
      "storeA商店上月的总销售额最高!\n"
     ]
    }
   ],
   "source": [
    "# 上个月的总销售额\n",
    "# 问题1：哪家商店上月的总销售额最高？\n",
    "import calendar\n",
    "from datetime import datetime\n",
    "\n",
    "# 获取最大的日期就是相当于最后一个月\n",
    "max_date = datetime.strptime(max(df[\"week\"]), '%Y-%m-%d')\n",
    "#print(\"max_date: \" + str(max_date))\n",
    "    \n",
    "# 返回对应的月份是第几周和有多少天\n",
    "month_range = calendar.monthrange(max_date.year, max_date.month)\n",
    "#print(\"month_range: \" + str(month_range))\n",
    "\n",
    "# 当月的初始天数\n",
    "start_date = datetime(max_date.year, max_date.month, 1)\n",
    "# 当月的最后一天\n",
    "end_date = datetime(max_date.year, max_date.month, month_range[1])\n",
    "\n",
    "# 都转成字符串\n",
    "start_date = datetime.strftime(start_date, '%Y-%m-%d')\n",
    "end_date = datetime.strftime(end_date, '%Y-%m-%d')\n",
    "\n",
    "# 通过loc获取指定范围的日期的数据\n",
    "mask = df[\"week\"].between(start_date, end_date)\n",
    "data_of_month = df.loc[mask]\n",
    "#print(data_of_month)\n",
    "\n",
    "# 统计当月的和\n",
    "sum_data_of_month = data_of_month.sum().to_frame()\n",
    "# 删除表格的header\n",
    "sum_data_of_month.drop(sum_data_of_month.index[0], inplace=True)\n",
    "# 找出营业额最多的商店\n",
    "max_turnover = sum_data_of_month[0].max()\n",
    "#print(max_turnover)\n",
    "\n",
    "def print_text(index, message, series_list):\n",
    "    index = 0\n",
    "    for x in series_list:\n",
    "    if x == max_turnover:\n",
    "        break\n",
    "    index += 1\n",
    "        \n",
    "    if index == 0:\n",
    "        print(\"storeA\" + message)\n",
    "    elif index == 1:\n",
    "        print(\"storeB\" + message)\n",
    "    elif index == 1:\n",
    "        print(\"storeC\" + message)\n",
    "    elif index == 1:\n",
    "        print(\"storeD\" + message)\n",
    "    else:\n",
    "        print(\"storeE\" + message)\n",
    "    \n",
    "print_text(index, \"商店上月的总销售额最高!\", sum_data_of_month[0])\n",
    "    "
   ]
  },
  {
   "cell_type": "code",
   "execution_count": 26,
   "metadata": {},
   "outputs": [
    {
     "name": "stdout",
     "output_type": "stream",
     "text": [
      "5865.48\n",
      "6756.71\n",
      "4942.105\n",
      "5431.405\n",
      "2580.025\n"
     ]
    }
   ],
   "source": [
    "# 平均销售额\n",
    "# 问题2: 哪家商店的平均销售额最高？\n",
    "\n",
    "# 获取基本统计信息\n",
    "describing = df.describe()\n",
    "# print(describing)\n",
    "\n",
    "# 选取mean（平均数）这一行\n",
    "mean_row = describing[1:2]\n",
    "# 行转列\n",
    "mean_list = mean_row.reset_index().T\n",
    "# 去掉header\n",
    "mean_list.drop(mean_list.index[0], inplace=True)\n",
    "\n",
    "for i in mean_list[0]:\n",
    "    print(i)\n",
    "\n",
    "\n"
   ]
  },
  {
   "cell_type": "code",
   "execution_count": 8,
   "metadata": {},
   "outputs": [
    {
     "name": "stdout",
     "output_type": "stream",
     "text": [
      "[array(['2016-03-13', 2054, 1390, 5112, 5513, 2536], dtype=object)]\n"
     ]
    }
   ],
   "source": [
    "# 2016 年 3 月 13 日的销售额\n",
    "march_list = []\n",
    "for row in df.values:\n",
    "    if row[0] == \"2016-03-13\":\n",
    "        march_list.append(row)\n",
    "print(march_list)\n"
   ]
  },
  {
   "cell_type": "code",
   "execution_count": 10,
   "metadata": {},
   "outputs": [
    {
     "name": "stdout",
     "output_type": "stream",
     "text": [
      "927.0\n"
     ]
    }
   ],
   "source": [
    "# C 店销售额最低的一周\n",
    "lowest = df.describe().reset_index().T\n",
    "print(lowest.values[3][3])\n"
   ]
  },
  {
   "cell_type": "code",
   "execution_count": 32,
   "metadata": {},
   "outputs": [
    {
     "name": "stdout",
     "output_type": "stream",
     "text": [
      "max_date: 2018-02-25 00:00:00\n",
      "min_date: 2017-11-25 00:00:00\n",
      "最近 3 个月的总销售额 storeA: 1173096\n",
      "最近 3 个月的总销售额 storeB: 1351342\n",
      "最近 3 个月的总销售额 storeC: 988421\n",
      "最近 3 个月的总销售额 storeD: 1086281\n",
      "最近 3 个月的总销售额 storeE: 516005\n"
     ]
    }
   ],
   "source": [
    "# 最近 3 个月的总销售额\n",
    "\n",
    "from datetime import datetime\n",
    "\n",
    "# 日期的月份相减\n",
    "def month_subtract(date, delta):\n",
    "    m, y = (date.month+delta) % 12, date.year + ((date.month)+delta-1) // 12\n",
    "    if not m: m = 12\n",
    "    d = min(date.day, [31,\n",
    "        29 if y%4==0 and not y%400==0 else 28,31,30,31,30,31,31,30,31,30,31][m-1])\n",
    "    return date.replace(day=d,month=m, year=y)\n",
    "\n",
    "# 将字符串日期转换成datetime类型的日期\n",
    "max_date = pd.to_datetime(max(df[\"week\"]))\n",
    "min_date = month_subtract(max_date, -3)\n",
    "\n",
    "print(\"max_date: \" + str(max_date))\n",
    "print(\"min_date: \" + str(min_date))\n",
    "\n",
    "# 将DataFrame的week字段的全部的值都编程datetime类型\n",
    "df[\"week\"] = pd.to_datetime(df[\"week\"])\n",
    "\n",
    "mask = (df[\"week\"] >= min_date) & (df[\"week\"] <= max_date)\n",
    "df.loc[mask]\n",
    "print(\"最近 3 个月的总销售额 storeA: \" + str(sum(df[\"storeA\"])))\n",
    "print(\"最近 3 个月的总销售额 storeB: \" + str(sum(df[\"storeB\"])))\n",
    "print(\"最近 3 个月的总销售额 storeC: \" + str(sum(df[\"storeC\"])))\n",
    "print(\"最近 3 个月的总销售额 storeD: \" + str(sum(df[\"storeD\"])))\n",
    "print(\"最近 3 个月的总销售额 storeE: \" + str(sum(df[\"storeE\"])))\n",
    "\n"
   ]
  },
  {
   "cell_type": "code",
   "execution_count": null,
   "metadata": {
    "collapsed": true
   },
   "outputs": [],
   "source": []
  }
 ],
 "metadata": {
  "kernelspec": {
   "display_name": "Python 2",
   "language": "python",
   "name": "python2"
  },
  "language_info": {
   "codemirror_mode": {
    "name": "ipython",
    "version": 2
   },
   "file_extension": ".py",
   "mimetype": "text/x-python",
   "name": "python",
   "nbconvert_exporter": "python",
   "pygments_lexer": "ipython2",
   "version": "2.7.14"
  }
 },
 "nbformat": 4,
 "nbformat_minor": 2
}
