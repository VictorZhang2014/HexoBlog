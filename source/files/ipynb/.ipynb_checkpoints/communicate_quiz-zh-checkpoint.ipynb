{
 "cells": [
  {
   "cell_type": "code",
   "execution_count": 3,
   "metadata": {
    "collapsed": true
   },
   "outputs": [],
   "source": [
    "# 导入并加载数据\n",
    "import pandas as pd\n",
    "from datetime import datetime\n",
    "\n",
    "df = pd.read_csv('store_data.csv')\n"
   ]
  },
  {
   "cell_type": "code",
   "execution_count": 4,
   "metadata": {},
   "outputs": [
    {
     "name": "stdout",
     "output_type": "stream",
     "text": [
      "         week  storeA  storeB  storeC  storeD  storeE\n",
      "0  2014-05-04    2643    8257    3893    6231    1294\n",
      "1  2014-05-11    6444    5736    5634    7092    2907\n",
      "2  2014-05-18    9646    2552    4253    5447    4736\n",
      "3  2014-05-25    5960   10740    8264    6063     949\n",
      "4  2014-06-01    7412    7374    3208    3985    3023\n"
     ]
    }
   ],
   "source": [
    "# 探索数据\n",
    "print(df.head())\n"
   ]
  },
  {
   "cell_type": "code",
   "execution_count": 7,
   "metadata": {},
   "outputs": [
    {
     "name": "stdout",
     "output_type": "stream",
     "text": [
      "storeA商店上月的总销售额最高!\n"
     ]
    }
   ],
   "source": [
    "# 上个月的销售额\n",
    "# 1.哪家商店上个月的总销售额最高？\n",
    "\n",
    "import calendar\n",
    "\n",
    "# 获取最大的日期就是相当于最后一个月\n",
    "max_date = datetime.strptime(max(df[\"week\"]), '%Y-%m-%d')\n",
    "#print(\"max_date: \" + str(max_date))\n",
    "    \n",
    "# 返回对应的月份是第几周和有多少天\n",
    "month_range = calendar.monthrange(max_date.year, max_date.month)\n",
    "#print(\"month_range: \" + str(month_range))\n",
    "\n",
    "# 当月的初始天数\n",
    "start_date = datetime(max_date.year, max_date.month, 1)\n",
    "# 当月的最后一天\n",
    "end_date = datetime(max_date.year, max_date.month, month_range[1])\n",
    "\n",
    "# 都转成字符串\n",
    "start_date = datetime.strftime(start_date, '%Y-%m-%d')\n",
    "end_date = datetime.strftime(end_date, '%Y-%m-%d')\n",
    "\n",
    "# 通过loc获取指定范围的日期的数据\n",
    "mask = df[\"week\"].between(start_date, end_date)\n",
    "data_of_month = df.loc[mask]\n",
    "#print(data_of_month)\n",
    "\n",
    "# 统计当月的和\n",
    "sum_data_of_month = data_of_month.sum().to_frame()\n",
    "# 删除表格的header\n",
    "sum_data_of_month.drop(sum_data_of_month.index[0], inplace=True)\n",
    "# 找出营业额最多的商店\n",
    "max_turnover = sum_data_of_month[0].max()\n",
    "#print(max_turnover)\n",
    "\n",
    "def print_text(max_turnover, message, series_list):\n",
    "    index = 0\n",
    "    for x in series_list:\n",
    "        if x == max_turnover:\n",
    "            break\n",
    "        index += 1\n",
    "        \n",
    "    if index == 0:\n",
    "        print(\"storeA\" + message)\n",
    "    elif index == 1:\n",
    "        print(\"storeB\" + message)\n",
    "    elif index == 2:\n",
    "        print(\"storeC\" + message)\n",
    "    elif index == 3:\n",
    "        print(\"storeD\" + message)\n",
    "    else:\n",
    "        print(\"storeE\" + message)\n",
    "    \n",
    "print_text(max_turnover, \"商店上月的总销售额最高!\", sum_data_of_month[0])\n",
    "\n"
   ]
  },
  {
   "cell_type": "code",
   "execution_count": null,
   "metadata": {
    "collapsed": true
   },
   "outputs": [],
   "source": [
    "# 平均销售额\n",
    "# 2.哪家商店的平均销售额最高？\n",
    "\n"
   ]
  },
  {
   "cell_type": "code",
   "execution_count": null,
   "metadata": {
    "collapsed": true
   },
   "outputs": [],
   "source": [
    "# 2016 年 3 月 13 日所在的那一周的销售额\n",
    "# 3.哪家商店在 2016 年 3 月 13 日这个星期的销量最高？\n"
   ]
  },
  {
   "cell_type": "code",
   "execution_count": null,
   "metadata": {
    "collapsed": true
   },
   "outputs": [],
   "source": [
    "# 过去 3 个月的销售额\n",
    "# 4.哪家商店在最近 3 个月内销量最高？\n"
   ]
  }
 ],
 "metadata": {
  "kernelspec": {
   "display_name": "Python 2",
   "language": "python",
   "name": "python2"
  },
  "language_info": {
   "codemirror_mode": {
    "name": "ipython",
    "version": 2
   },
   "file_extension": ".py",
   "mimetype": "text/x-python",
   "name": "python",
   "nbconvert_exporter": "python",
   "pygments_lexer": "ipython2",
   "version": "2.7.14"
  }
 },
 "nbformat": 4,
 "nbformat_minor": 2
}
